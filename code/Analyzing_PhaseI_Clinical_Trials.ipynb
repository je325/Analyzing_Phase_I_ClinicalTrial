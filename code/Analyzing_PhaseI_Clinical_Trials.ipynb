{
 "cells": [
  {
   "cell_type": "code",
   "execution_count": null,
   "id": "initial_id",
   "metadata": {
    "collapsed": true
   },
   "outputs": [],
   "source": [
    "import pandas as pd\n",
    "import matplotlib.pyplot as plt\n",
    "import warnings\n",
    "warnings.filterwarnings('ignore')\n",
    "\n",
    "###LOAD IN THE SHEET\n",
    "dataframe = pd.read_excel('../data/synthetic_participant_dose_data.xlsx',sheet_name=None)\n",
    "\n",
    "###GET THE NAMES OF ALL OF THE POTENTIAL SHEETS\n",
    "sheet_names = \", \".join(dataframe.keys())\n",
    "print(f\"Sheet names = {sheet_names}\")\n",
    "\n",
    "###Get the sheets you want\n",
    "participants = pd.read_excel('../data/synthetic_participant_dose_data.xlsx',sheet_name='participants')\n",
    "doses = pd.read_excel('../data/synthetic_participant_dose_data.xlsx',sheet_name='doses')\n",
    "\n",
    "###check for missing values and remove those\n",
    "#print(doses.isna().any())"
   ]
  }
 ],
 "metadata": {
  "kernelspec": {
   "display_name": "Python 3",
   "language": "python",
   "name": "python3"
  },
  "language_info": {
   "codemirror_mode": {
    "name": "ipython",
    "version": 2
   },
   "file_extension": ".py",
   "mimetype": "text/x-python",
   "name": "python",
   "nbconvert_exporter": "python",
   "pygments_lexer": "ipython2",
   "version": "2.7.6"
  }
 },
 "nbformat": 4,
 "nbformat_minor": 5
}
